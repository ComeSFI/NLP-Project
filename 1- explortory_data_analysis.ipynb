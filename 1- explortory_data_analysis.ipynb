{
 "cells": [
  {
   "cell_type": "code",
   "execution_count": null,
   "metadata": {},
   "outputs": [],
   "source": [
    "import pandas as pd"
   ]
  },
  {
   "cell_type": "markdown",
   "metadata": {},
   "source": [
    "# Data Exploration\n",
    "\n",
    "I encountered an issue with matplotlib so i will only use plotly.express\n",
    "\n",
    "All outputs are cleared due to file size."
   ]
  },
  {
   "cell_type": "code",
   "execution_count": null,
   "metadata": {},
   "outputs": [],
   "source": [
    "data = pd.read_csv('data/rotten_tomatoes_movie_reviews.csv')\n",
    "moviesinfo = pd.read_csv('data/rotten_tomatoes_movies.csv')"
   ]
  },
  {
   "cell_type": "code",
   "execution_count": null,
   "metadata": {},
   "outputs": [],
   "source": [
    "data.head()"
   ]
  },
  {
   "cell_type": "code",
   "execution_count": null,
   "metadata": {},
   "outputs": [],
   "source": [
    "data_all = data.merge(moviesinfo, on='id', how = 'left')"
   ]
  },
  {
   "cell_type": "code",
   "execution_count": null,
   "metadata": {},
   "outputs": [],
   "source": [
    "data_all.head()"
   ]
  },
  {
   "cell_type": "code",
   "execution_count": null,
   "metadata": {},
   "outputs": [],
   "source": [
    "len(data_all)"
   ]
  },
  {
   "cell_type": "code",
   "execution_count": null,
   "metadata": {},
   "outputs": [],
   "source": [
    "import plotly.express as px\n",
    "class_labels = [\"Positive\", \"Negative\"]\n",
    "category_orders = {\"Sentiment\": class_labels}\n",
    "\n",
    "print(data_all[\"scoreSentiment\"].value_counts(normalize=True)*100)\n",
    "\n",
    "fig = px.histogram(data_all, x=\"scoreSentiment\", title=\"Sentiment distribution\", color = \"scoreSentiment\", category_orders=category_orders,text_auto=True)\n",
    "fig.show()"
   ]
  },
  {
   "cell_type": "markdown",
   "metadata": {},
   "source": [
    "We have twice as many positive values than negative ones, we will maybe have overfitting problems"
   ]
  },
  {
   "cell_type": "code",
   "execution_count": null,
   "metadata": {},
   "outputs": [],
   "source": [
    "data_all.columns"
   ]
  },
  {
   "cell_type": "code",
   "execution_count": null,
   "metadata": {},
   "outputs": [],
   "source": [
    "data_all['word_count'] = data_all['reviewText'].apply(lambda x: len(str(x).split()))\n",
    "\n",
    "# Create a histogram\n",
    "fig = px.histogram(data_all, x='word_count', nbins=30, title='Distribution of Number of Words in ReviewText')\n",
    "\n",
    "# Customize the layout if needed\n",
    "fig.update_layout(\n",
    "    xaxis_title='Number of Words',\n",
    "    yaxis_title='Frequency',\n",
    "    showlegend=False  # You can set this to True if you want a legend\n",
    ")\n",
    "\n",
    "# Show the plot\n",
    "fig.show()"
   ]
  },
  {
   "cell_type": "markdown",
   "metadata": {},
   "source": [
    "We see that we have a lot of empty reviews"
   ]
  },
  {
   "cell_type": "code",
   "execution_count": null,
   "metadata": {},
   "outputs": [],
   "source": [
    "fig = px.histogram(\n",
    "    data_all, \n",
    "    x='word_count', \n",
    "    color='scoreSentiment', \n",
    "    nbins=30, \n",
    "    title='Distribution of Number of Words in ReviewText by Sentiment',\n",
    "    labels={'word_count': 'Number of Words', 'scoreSentiment': 'Sentiment'},\n",
    "    category_orders={'scoreSentiment': ['positive', 'negative']}\n",
    ")\n",
    "\n",
    "# Customize the layout if needed\n",
    "fig.update_layout(\n",
    "    yaxis_title='Frequency',\n",
    "    showlegend=True\n",
    ")\n",
    "\n",
    "# Show the plot\n",
    "fig.show()"
   ]
  },
  {
   "cell_type": "markdown",
   "metadata": {},
   "source": [
    "The repartition of the values does not seem to depend on the number of words"
   ]
  },
  {
   "cell_type": "code",
   "execution_count": null,
   "metadata": {},
   "outputs": [],
   "source": [
    "import plotly.express as px\n",
    "import pandas as pd\n",
    "\n",
    "\n",
    "top_movies = data_all['title'].value_counts().nlargest(10).index\n",
    "top_movies_data = data_all[data_all['title'].isin(top_movies)]\n",
    "color_palette = {'POSITIVE': 'green', 'NEGATIVE': 'red'}\n",
    "fig = px.bar(\n",
    "    top_movies_data,\n",
    "    x='title',\n",
    "    color='scoreSentiment',\n",
    "    title='Top 10 Most Frequent Movies and Sentiment Distribution',\n",
    "    labels={'title': 'Movie Title', 'scoreSentiment': 'Sentiment'},\n",
    "    category_orders={'scoreSentiment': ['POSITIVE', 'NEGATIVE']},\n",
    "    color_discrete_map=color_palette\n",
    ")\n",
    "\n",
    "fig.update_layout(\n",
    "    xaxis_title='Movie Title',\n",
    "    yaxis_title='Count',\n",
    "    showlegend=True\n",
    ")\n",
    "fig.show()\n"
   ]
  },
  {
   "cell_type": "code",
   "execution_count": null,
   "metadata": {},
   "outputs": [],
   "source": [
    "import plotly.express as px\n",
    "import pandas as pd\n",
    "\n",
    "\n",
    "top_movies = data_all['director'].value_counts().nlargest(5).index\n",
    "top_movies_data = data_all[data_all['director'].isin(top_movies)]\n",
    "color_palette = {'POSITIVE': 'green', 'NEGATIVE': 'red'}\n",
    "fig = px.bar(\n",
    "    top_movies_data,\n",
    "    x='director',\n",
    "    color='scoreSentiment',\n",
    "    title='Top 5 Most Frequent directors and Sentiment Distribution',\n",
    "    labels={'title': 'Directore Name', 'scoreSentiment': 'Sentiment'},\n",
    "    category_orders={'scoreSentiment': ['POSITIVE', 'NEGATIVE']},\n",
    "    color_discrete_map=color_palette\n",
    ")\n",
    "\n",
    "fig.update_layout(\n",
    "    xaxis_title='Movie Title',\n",
    "    yaxis_title='Count',\n",
    "    showlegend=True\n",
    ")\n",
    "fig.show()"
   ]
  },
  {
   "cell_type": "markdown",
   "metadata": {},
   "source": [
    "Here we have the most present directors and movies and their ratio of positive/negative reviews"
   ]
  },
  {
   "cell_type": "markdown",
   "metadata": {},
   "source": [
    "A better analysis could be interesting but would not really change the approach for the NLP classification"
   ]
  }
 ],
 "metadata": {
  "kernelspec": {
   "display_name": "Python 3",
   "language": "python",
   "name": "python3"
  },
  "language_info": {
   "codemirror_mode": {
    "name": "ipython",
    "version": 3
   },
   "file_extension": ".py",
   "mimetype": "text/x-python",
   "name": "python",
   "nbconvert_exporter": "python",
   "pygments_lexer": "ipython3",
   "version": "3.10.11"
  }
 },
 "nbformat": 4,
 "nbformat_minor": 2
}
